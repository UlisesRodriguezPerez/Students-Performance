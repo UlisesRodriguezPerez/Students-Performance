{
 "cells": [
  {
   "cell_type": "markdown",
   "metadata": {},
   "source": [
    "# Análisis del Rendimiento de Estudiantes\n",
    "\n",
    "## Introducción\n",
    "\n",
    "Este proyecto se centra en analizar el rendimiento de estudiantes en tres áreas clave: matemáticas, lectura y escritura, utilizando el dataset 'Students Performance'. El objetivo es explorar cómo diversas características demográficas y socioeconómicas, como el género, el grupo étnico y el nivel educativo de los padres, influyen en el rendimiento académico de los estudiantes.\n",
    "\n",
    "A través de este análisis, buscamos identificar patrones significativos y factores predictivos que puedan ayudar en la formulación de estrategias para mejorar el rendimiento estudiantil. Las principales tareas incluirán la exploración de datos, visualización, manejo de datos faltantes, análisis estadístico y modelado predictivo para estimar el rendimiento en matemáticas.\n",
    "\n",
    "Este análisis no solo aportará insights valiosos sobre la educación sino que también demostrará cómo técnicas avanzadas de análisis de datos pueden aplicarse en contextos educativos para obtener conclusiones prácticas y útiles.\n"
   ]
  },
  {
   "cell_type": "markdown",
   "metadata": {},
   "source": [
    "## Carga de Datos\n",
    "A continuación, cargamos el dataset utilizando la librería Pandas. Contiene las siguientes columnas de interés:\n",
    "- `gender`: Género del estudiante.\n",
    "- `race/ethnicity`: Grupo étnico del estudiante.\n",
    "- `parental level of education`: Nivel educativo de los padres.\n",
    "- `lunch`: Tipo de almuerzo.\n",
    "- `test preparation course`: Si el estudiante tomó o no un curso de preparación.\n",
    "- `math score`, `reading score`, `writing score`: Puntuaciones en las pruebas de matemáticas, lectura y escritura.\n"
   ]
  },
  {
   "cell_type": "code",
   "execution_count": null,
   "metadata": {},
   "outputs": [],
   "source": [
    "import pandas as pd\n",
    "\n",
    "# Load the data\n",
    "data_path = '../data/StudentsPerformance.csv'\n",
    "df = pd.read_csv(data_path)\n",
    "\n",
    "# Show the first rows of the dataframe using the head method\n",
    "df.head()\n"
   ]
  },
  {
   "cell_type": "code",
   "execution_count": null,
   "metadata": {},
   "outputs": [],
   "source": [
    "# General information about the dataframe\n",
    "df.info()"
   ]
  },
  {
   "cell_type": "code",
   "execution_count": null,
   "metadata": {},
   "outputs": [],
   "source": [
    "# Summary statistics for the numerical columns\n",
    "df.describe()"
   ]
  },
  {
   "cell_type": "code",
   "execution_count": null,
   "metadata": {},
   "outputs": [],
   "source": [
    "# Check for missing values\n",
    "df.isnull().sum()\n",
    "\n",
    "#check for missing values and handle them if any\n",
    "if df.isnull().sum().any():\n",
    "    # fill missing values with the mean when the column is numerical and with the mode when the column is categorical\n",
    "    df.fillna({\n",
    "        'math score': df['math score'].mean(),\n",
    "        'reading score': df['reading score'].mean(),\n",
    "        'writing score': df['writing score'].mean(),\n",
    "        'gender': df['gender'].mode()[0],\n",
    "        'race/ethnicity': df['race/ethnicity'].mode()[0],\n",
    "        'parental level of education': df['parental level of education'].mode()[0],\n",
    "        'lunch': df['lunch'].mode()[0],\n",
    "        'test preparation course': df['test preparation course'].mode()[0]\n",
    "    }, inplace=True)\n",
    "else:\n",
    "    print('No missing values found')\n"
   ]
  },
  {
   "cell_type": "code",
   "execution_count": null,
   "metadata": {},
   "outputs": [],
   "source": [
    "## Histogramas de las puntuaciones\n",
    "''' \n",
    "Utilizamos histogramas para visualizar la distribución de las puntuaciones en matemáticas, lectura y escritura. \n",
    "Estos gráficos nos permiten observar la forma de la distribución y detectar si existen patrones como asimetría o presencia de picos.\n",
    "\n",
    "'''\n",
    "\n",
    "import matplotlib.pyplot as plt\n",
    "import seaborn as sns\n",
    "\n",
    "# Setting the style of seaborn\n",
    "sns.set(style=\"whitegrid\")\n",
    "\n",
    "# Creating the histogram plots for the math, reading, and writing scores\n",
    "plt.figure(figsize=(18, 5))\n",
    "\n",
    "plt.subplot(1, 3, 1)\n",
    "sns.histplot(df['math score'], kde=True, color='blue')\n",
    "plt.title('Distribución de Puntuaciones de Matemáticas')\n",
    "\n",
    "plt.subplot(1, 3, 2)\n",
    "sns.histplot(df['reading score'], kde=True, color='green')\n",
    "plt.title('Distribución de Puntuaciones de Lectura')\n",
    "\n",
    "plt.subplot(1, 3, 3)\n",
    "sns.histplot(df['writing score'], kde=True, color='red')\n",
    "plt.title('Distribución de Puntuaciones de Escritura')\n",
    "\n",
    "plt.show()\n"
   ]
  },
  {
   "cell_type": "code",
   "execution_count": null,
   "metadata": {},
   "outputs": [],
   "source": [
    "## Gráficos de Caja por Género\n",
    "\n",
    "'''\n",
    "Los gráficos de caja proporcionan una forma visual de comparar la distribución de las puntuaciones entre diferentes grupos de género, destacando diferencias en medianas, rangos intercuartílicos y la presencia de valores atípicos.\n",
    "'''\n",
    "\n",
    "# Graphs of box plots to compare performance by gender\n",
    "plt.figure(figsize=(18, 5))\n",
    "\n",
    "plt.subplot(1, 3, 1)\n",
    "sns.boxplot(x='gender', y='math score', data=df)\n",
    "plt.title('Puntuaciones de Matemáticas por Género')\n",
    "\n",
    "plt.subplot(1, 3, 2)\n",
    "sns.boxplot(x='gender', y='reading score', data=df)\n",
    "plt.title('Puntuaciones de Lectura por Género')\n",
    "\n",
    "plt.subplot(1, 3, 3)\n",
    "sns.boxplot(x='gender', y='writing score', data=df)\n",
    "plt.title('Puntuaciones de Escritura por Género')\n",
    "\n",
    "plt.show()\n"
   ]
  },
  {
   "cell_type": "code",
   "execution_count": null,
   "metadata": {},
   "outputs": [],
   "source": [
    "# Gráfico de caja del nivel educativo de los padres y las puntuaciones en matemáticas\n",
    "plt.figure(figsize=(12, 6))\n",
    "sns.boxplot(x='parental level of education', y='math score', data=df)\n",
    "plt.xticks(rotation=45)\n",
    "plt.title('Puntuaciones de Matemáticas por Nivel Educativo de los Padres')\n",
    "plt.show()\n"
   ]
  },
  {
   "cell_type": "code",
   "execution_count": null,
   "metadata": {},
   "outputs": [],
   "source": [
    "# Gráfico de caja de la relación entre el almuerzo y las puntuaciones en matemáticas\n",
    "plt.figure(figsize=(8, 6))\n",
    "sns.boxplot(x='lunch', y='math score', data=df)\n",
    "plt.title('Puntuaciones de Matemáticas por Tipo de Almuerzo')\n",
    "plt.show()"
   ]
  },
  {
   "cell_type": "code",
   "execution_count": null,
   "metadata": {},
   "outputs": [],
   "source": [
    "# Gráfico de caja de la relación entre la preparación del examen y las puntuaciones en matemáticas\n",
    "plt.figure(figsize=(8, 6))\n",
    "sns.boxplot(x='test preparation course', y='math score', data=df)\n",
    "plt.title('Puntuaciones de Matemáticas por Preparación del Examen')\n",
    "plt.show()"
   ]
  },
  {
   "cell_type": "code",
   "execution_count": null,
   "metadata": {},
   "outputs": [],
   "source": [
    "## Gráficos de Dispersión entre Puntuaciones\n",
    "'''\n",
    "Utilizamos gráficos de dispersión para evaluar la relación entre las diferentes puntuaciones académicas. Estos gráficos ayudan a identificar correlaciones potenciales entre las puntuaciones en matemáticas, lectura y escritura.\n",
    "\n",
    "'''\n",
    "# Gráficos de dispersión entre las puntuaciones\n",
    "sns.pairplot(df[['math score', 'reading score', 'writing score']])\n",
    "plt.suptitle('Dispersión entre Puntuaciones', y=1.02)\n",
    "plt.show()\n"
   ]
  },
  {
   "cell_type": "code",
   "execution_count": null,
   "metadata": {},
   "outputs": [],
   "source": [
    "# Correlaciones entre las puntuaciones\n",
    "correlation_matrix = df[['math score', 'reading score', 'writing score']].corr()\n",
    "sns.heatmap(correlation_matrix, annot=True, cmap='coolwarm')\n",
    "plt.title('Matriz de Correlación entre Puntuaciones')\n",
    "plt.show()"
   ]
  },
  {
   "cell_type": "code",
   "execution_count": null,
   "metadata": {},
   "outputs": [],
   "source": [
    "# Codification of categorical variables and division data\n",
    "from sklearn.model_selection import train_test_split, cross_val_score\n",
    "\n",
    "df_encoded = pd.get_dummies(df, columns=['gender', 'race/ethnicity', 'parental level of education', 'lunch', 'test preparation course'])\n",
    "X = df_encoded.drop(['math score', 'reading score', 'writing score'], axis=1)  # Delete other scores to focus on math score\n",
    "y = df_encoded['math score']\n",
    "X_train, X_test, y_train, y_test = train_test_split(X, y, test_size=0.2, random_state=42)"
   ]
  },
  {
   "cell_type": "code",
   "execution_count": null,
   "metadata": {},
   "outputs": [],
   "source": [
    "# Prepare the additional models\n",
    "from sklearn.linear_model import LinearRegression\n",
    "from sklearn.metrics import mean_squared_error\n",
    "from sklearn.linear_model import Ridge, Lasso\n",
    "\n",
    "\n",
    "models = {\n",
    "    'Linear Regression': LinearRegression(),\n",
    "    'Ridge Regression': Ridge(alpha=1.0),\n",
    "    'Lasso Regression': Lasso(alpha=0.1),\n",
    "}\n",
    "\n",
    "# Train and evaluate the models\n",
    "for name, model in models.items():\n",
    "    model.fit(X_train, y_train)\n",
    "    predictions = model.predict(X_test)\n",
    "    mse = mean_squared_error(y_test, predictions)\n",
    "    print(f\"\\n\\n{name} Mean Squared Error: {mse}\")\n",
    "\n",
    "    # If the model is a linear regression, we can check the coefficients\n",
    "    if hasattr(model, 'coef_'):\n",
    "        importance = pd.DataFrame({\n",
    "            'Attribute': X_train.columns,\n",
    "            'Importance': model.coef_\n",
    "        })\n",
    "        importance = importance.sort_values(by='Importance', ascending=False)\n",
    "        print(f\"{name} coefficient importance:\\n\", importance.head())"
   ]
  },
  {
   "cell_type": "code",
   "execution_count": null,
   "metadata": {},
   "outputs": [],
   "source": [
    "# Random Forest Regressor\n",
    "from sklearn.ensemble import RandomForestRegressor\n",
    "import numpy as np\n",
    "\n",
    "# List of different settings for testing\n",
    "n_estimators_options = [100, 200, 300]\n",
    "max_features_options = ['sqrt', 'log2', None]\n",
    "max_depth_options = [10, 15, 20, None]\n",
    "\n",
    "best_score = np.inf\n",
    "\n",
    "# Test all the combinations\n",
    "for n_estimators in n_estimators_options:\n",
    "    for max_features in max_features_options:\n",
    "        for max_depth in max_depth_options:\n",
    "            model = RandomForestRegressor(n_estimators=n_estimators, max_features=max_features, max_depth=max_depth, random_state=42)\n",
    "            model.fit(X_train, y_train)\n",
    "            scores = cross_val_score(model, X, y, cv=5, scoring='neg_mean_squared_error')\n",
    "            mean_mse = -scores.mean()\n",
    "\n",
    "            print(f\"Random Forest with n_estimators={n_estimators}, max_features={max_features}, max_depth={max_depth}: MSE={mean_mse:.2f}\")\n",
    "\n",
    "            # Guardar el mejor modelo\n",
    "            if mean_mse < best_score:\n",
    "                best_score = mean_mse\n",
    "                best_params = {'n_estimators': n_estimators, 'max_features': max_features, 'max_depth': max_depth}\n",
    "\n",
    "print(f\"Best MSE: {best_score:.2f} with parameters: {best_params}\")"
   ]
  }
 ],
 "metadata": {
  "kernelspec": {
   "display_name": ".venv",
   "language": "python",
   "name": "python3"
  },
  "language_info": {
   "codemirror_mode": {
    "name": "ipython",
    "version": 3
   },
   "file_extension": ".py",
   "mimetype": "text/x-python",
   "name": "python",
   "nbconvert_exporter": "python",
   "pygments_lexer": "ipython3",
   "version": "3.11.1"
  }
 },
 "nbformat": 4,
 "nbformat_minor": 2
}
